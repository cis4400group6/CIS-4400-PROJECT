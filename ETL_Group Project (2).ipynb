{
 "cells": [
  {
   "cell_type": "code",
   "execution_count": 1,
   "metadata": {},
   "outputs": [
    {
     "name": "stdout",
     "output_type": "stream",
     "text": [
      "Requirement already satisfied: pymysql in c:\\users\\saman\\anaconda3\\lib\\site-packages (0.10.1)\n",
      "Note: you may need to restart the kernel to use updated packages.\n"
     ]
    }
   ],
   "source": [
    "pip install pymysql"
   ]
  },
  {
   "cell_type": "code",
   "execution_count": 36,
   "metadata": {},
   "outputs": [],
   "source": [
    "#import python libraries\n",
    "import pymysql \n",
    "import pandas as pd\n",
    "import numpy as np"
   ]
  },
  {
   "cell_type": "code",
   "execution_count": 37,
   "metadata": {},
   "outputs": [],
   "source": [
    "zipcode = pd.read_csv('Zipcodes.csv') #using pandas to read zipcode csv\n",
    "demographics_info= pd.read_csv('Demographic Data.csv') #using pandas to read demographic data csv\n",
    "demographics_info = demographics_info[['JURISDICTION_ID','TOTAL POPULATION','WHITE PERCENTAGE','BLACK OR AFRICAN AMERICAN PERCENTAGE','NATIVE AMERICAN PERCENTAGE','ASIAN PERCENTAGE','PACIFIC ISLANDER PERCENTAGE','HISPANIC OR LATINO PERCENTAGE','OTHER RACE PERCENTAGE']] #selecting columns to keep\n",
    "jurisdiction_dem = pd.merge(zipcode,demographics_info, left_on= 'Zipcode', right_on='JURISDICTION_ID', how='inner') #inner joining zipcode with demographic_info on zipcode\n",
    "jurisdiction_dem= jurisdiction_dem.drop(['JURISDICTION_ID'], axis=1) #dropping jurisdiction_id\n",
    "\n",
    "jurisdiction_dem['Zipcode'] =(jurisdiction_dem['Zipcode'].astype(int)) #converting data type of columns to format data types for fact_table\n",
    "jurisdiction_dem['TOTAL POPULATION'] =(jurisdiction_dem['TOTAL POPULATION'].astype(int))\n",
    "jurisdiction_dem['WHITE PERCENTAGE'] =(jurisdiction_dem['WHITE PERCENTAGE'].astype(float))\n",
    "jurisdiction_dem['BLACK OR AFRICAN AMERICAN PERCENTAGE'] =(jurisdiction_dem['BLACK OR AFRICAN AMERICAN PERCENTAGE'].astype(float))\n",
    "jurisdiction_dem['NATIVE AMERICAN PERCENTAGE'] =(jurisdiction_dem['NATIVE AMERICAN PERCENTAGE'].astype(float))\n",
    "jurisdiction_dem['ASIAN PERCENTAGE'] =(jurisdiction_dem['ASIAN PERCENTAGE'].astype(float))\n",
    "jurisdiction_dem['PACIFIC ISLANDER PERCENTAGE'] =(jurisdiction_dem['PACIFIC ISLANDER PERCENTAGE'].astype(float))\n",
    "jurisdiction_dem['OTHER RACE PERCENTAGE'] =(jurisdiction_dem['OTHER RACE PERCENTAGE'].astype(float))\n",
    "\n",
    "jurisdiction_demList = [tuple(l) for l in jurisdiction_dem.values.tolist()] #demographic data for jurisdiction_dim table\n"
   ]
  },
  {
   "cell_type": "code",
   "execution_count": 38,
   "metadata": {},
   "outputs": [],
   "source": [
    "urgent_cares = pd.read_csv('Urgent Cares.csv') #using pandas to read urgent care csv\n",
    "urgent_cares = urgent_cares.drop(['Phone Number', 'County'], axis=1)\n",
    "urgent_cares = urgent_cares.reindex(columns=['Name','Type','Address','Zipcode','City','State'])"
   ]
  },
  {
   "cell_type": "code",
   "execution_count": 40,
   "metadata": {},
   "outputs": [],
   "source": [
    "hospitals = pd.read_csv('Covid Hospitals.csv') #using pandas to read covid hospitals csv \n",
    "hospitals = hospitals.drop(['ID'], axis=1) #dropping id table\n",
    "hospitals = hospitals.reindex(columns=['Name','Type','Address','Zipcode','City','State']) #rearranging order of column names to match with urgent cares/hospitals dataframe\n"
   ]
  },
  {
   "cell_type": "code",
   "execution_count": 41,
   "metadata": {},
   "outputs": [],
   "source": [
    "frames = [urgent_cares, hospitals] #defining two data frames to merge in following lines of code\n",
    "urgent_hospitals = pd.concat(frames, ignore_index=True, sort=False) #merging urgent cares with hospitals"
   ]
  },
  {
   "cell_type": "code",
   "execution_count": 42,
   "metadata": {},
   "outputs": [],
   "source": [
    "minute_clinic=pd.read_csv('CVS Minute Clinic Brooklyn.csv') #using pandas to read cvs minute clinic brooklyn csv\n",
    "minute_clinic = minute_clinic.drop(['Phone Number', 'County','Unnamed: 9','CVS_ID'], axis=1) #dropping columns "
   ]
  },
  {
   "cell_type": "code",
   "execution_count": 43,
   "metadata": {},
   "outputs": [],
   "source": [
    "frame1=[urgent_hospitals,minute_clinic] #defining two data frames to merge in following lines of code\n",
    "testing_sites = pd.concat(frame1, ignore_index=True, sort=False) #merging urgent_hospitals with minute_clinics dataframe"
   ]
  },
  {
   "cell_type": "code",
   "execution_count": 46,
   "metadata": {},
   "outputs": [],
   "source": [
    "testing_sites['Testing_ID'] = testing_sites.index + 1 #creating a testing_id column name to assign ID numbers starting from 1\n",
    "testing_sites=testing_sites.dropna() #dropping all NaN values\n",
    "\n",
    "testing_sitesList = [tuple(l) for l in testing_sites.values.tolist()] #testing_sites data for testing_dim table"
   ]
  },
  {
   "cell_type": "code",
   "execution_count": 47,
   "metadata": {},
   "outputs": [],
   "source": [
    "fact_table = pd.merge(jurisdiction_dem, testing_sites, left_on= 'Zipcode', right_on='Zipcode', how='inner') #inner joining jurisdiction_dem with testing_sites on zipcode\n",
    "fact_table = fact_table[['Zipcode','Testing_ID']] #selecting columns to keep\n",
    "fact_table['Testing_Sites'] = 1 #creating new column Testing_Sites with row values as 1\n",
    "fact_table['Zipcode'] =(fact_table['Zipcode'].astype(int)) #converting data type of columns to format data types for fact_table\n",
    "fact_table['Testing_ID'] =(fact_table['Testing_ID'].astype(int))\n",
    "fact_table['Testing_Sites'] =(fact_table['Testing_Sites'].astype(int))\n",
    "\n",
    "fact_tableList = [tuple(l) for l in fact_table.values.tolist()] #fact_table data for fact_table table"
   ]
  },
  {
   "cell_type": "code",
   "execution_count": 48,
   "metadata": {},
   "outputs": [],
   "source": [
    "db = pymysql.connect(\"127.0.0.1\",\"root\",\"MY_PASSWORD\",\"coviddb\") #establishing connection to MySQL Workbench\n",
    "\n",
    "cursor = db.cursor()"
   ]
  },
  {
   "cell_type": "code",
   "execution_count": 51,
   "metadata": {},
   "outputs": [],
   "source": [
    "cursor.execute(\"DROP TABLE IF EXISTS jurisdiction_dims;\") #delete the table if it already exists\n",
    "\n",
    "#create table with attributes based on the dimensional model\n",
    "createTable1 = \"\"\"CREATE TABLE jurisdiction_dims(\n",
    "                 Brooklyn_Neighborhoods VARCHAR(255),\n",
    "                 Zipcode int not null,\n",
    "                 TOTAL_POPULATION int,\n",
    "                 WHITE_PERCENTAGE FLOAT,\n",
    "                 BLACK_OR_AFRICAN_AMERICAN_PERCENTAGE FLOAT,\n",
    "                 NATIVE_AMERICAN_PERCENTAGE FLOAT,\n",
    "                 ASIAN_PERCENTAGE FLOAT,\n",
    "                 PACIFIC_ISLANDER_PERCENTAGE FLOAT,\n",
    "                 HISPANIC_OR_LATINO_PERCENTAGE FLOAT,\n",
    "                 OTHER_RACE_PERCENTAGE FLOAT,\n",
    "                 PRIMARY KEY (Zipcode));\"\"\"\n",
    "\n",
    "cursor.execute(createTable1)\n",
    "db.commit() #commiting the create table statement\n",
    "\n",
    "insertData1 = \"INSERT INTO jurisdiction_dims VALUES (%s,%s,%s,%s,%s,%s,%s,%s,%s,%s);\" #insert data into table\n",
    "cursor.executemany(insertData1,jurisdiction_demList)\n",
    "db.commit() "
   ]
  },
  {
   "cell_type": "code",
   "execution_count": 52,
   "metadata": {},
   "outputs": [],
   "source": [
    "cursor.execute(\"DROP TABLE IF EXISTS testing_dims;\") #delete the table if it already exists\n",
    "\n",
    "# create table with attributes based on the dimensional model\n",
    "createTable2 = \"\"\"CREATE TABLE testing_dims(\n",
    "                 Name VARCHAR(255),\n",
    "                 Type VARCHAR(255),\n",
    "                 Address VARCHAR(255),\n",
    "                 Zipcode int ,\n",
    "                 City VARCHAR(255),\n",
    "                 State VARCHAR(255),\n",
    "                 Testing_ID int not null,\n",
    "                 PRIMARY KEY (Testing_ID));\"\"\"\n",
    "\n",
    "cursor.execute(createTable2)\n",
    "db.commit() #commiting the create table statement\n",
    "\n",
    "insertData2 = \"INSERT INTO testing_dims VALUES (%s,%s,%s,%s,%s,%s,%s);\" # insert data into table\n",
    "cursor.executemany(insertData2,testing_sitesList)\n",
    "db.commit()"
   ]
  },
  {
   "cell_type": "code",
   "execution_count": 54,
   "metadata": {},
   "outputs": [],
   "source": [
    "cursor.execute(\"DROP TABLE IF EXISTS fact_tables;\") #delete the table if it already exists\n",
    "\n",
    "# create table with attributes based on the dimensional model\n",
    "createTable3 = \"\"\"CREATE TABLE fact_tables(\n",
    "                  Zipcode int,\n",
    "                  Testing_ID int,\n",
    "                  Testing_Sites int,\n",
    "                  FOREIGN KEY (Zipcode) REFERENCES jurisdiction_dims(Zipcode),\n",
    "                  FOREIGN KEY (Testing_ID) REFERENCES testing_dims(Testing_ID)\n",
    "                  );\"\"\"\n",
    "\n",
    "cursor.execute(createTable3)\n",
    "db.commit() #commiting the create table statement\n",
    "\n",
    "insertData3 = \"INSERT INTO fact_tables VALUES (%s,%s,%s);\" #insert data into table\n",
    "cursor.executemany(insertData3, fact_tableList)\n",
    "db.commit()\n",
    "\n",
    "db.close() #closing the connection to MySQL Workbench"
   ]
  }
 ],
 "metadata": {
  "kernelspec": {
   "display_name": "Python 3",
   "language": "python",
   "name": "python3"
  },
  "language_info": {
   "codemirror_mode": {
    "name": "ipython",
    "version": 3
   },
   "file_extension": ".py",
   "mimetype": "text/x-python",
   "name": "python",
   "nbconvert_exporter": "python",
   "pygments_lexer": "ipython3",
   "version": "3.7.3"
  }
 },
 "nbformat": 4,
 "nbformat_minor": 2
}
